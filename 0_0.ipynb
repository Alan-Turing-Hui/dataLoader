{
  "nbformat": 4,
  "nbformat_minor": 0,
  "metadata": {
    "colab": {
      "provenance": [],
      "gpuType": "T4"
    },
    "kernelspec": {
      "name": "python3",
      "display_name": "Python 3"
    },
    "language_info": {
      "name": "python"
    },
    "accelerator": "GPU"
  },
  "cells": [
    {
      "cell_type": "code",
      "execution_count": 8,
      "metadata": {
        "id": "h_svmsGF5PWV"
      },
      "outputs": [],
      "source": [
        "import torch\n",
        "import torch.nn as nn\n",
        "import torch.optim as optim\n",
        "from torch.utils.data import Dataset, DataLoader\n",
        "import torchaudio\n",
        "import pandas as pd\n",
        "import torch.nn as nn\n",
        "import torch.nn.functional as F"
      ]
    },
    {
      "cell_type": "code",
      "source": [
        "from google.colab import files\n",
        "\n",
        "uploaded = files.upload()\n"
      ],
      "metadata": {
        "colab": {
          "base_uri": "https://localhost:8080/",
          "height": 42
        },
        "id": "SlpbuB8g58rl",
        "outputId": "c4d6e572-c547-46ad-fc45-1651bf9dc3e0"
      },
      "execution_count": 2,
      "outputs": [
        {
          "output_type": "display_data",
          "data": {
            "text/plain": [
              "<IPython.core.display.HTML object>"
            ],
            "text/html": [
              "\n",
              "     <input type=\"file\" id=\"files-4c91215f-c0d2-4299-a0cc-f9b7e8bf5056\" name=\"files[]\" multiple disabled\n",
              "        style=\"border:none\" />\n",
              "     <output id=\"result-4c91215f-c0d2-4299-a0cc-f9b7e8bf5056\">\n",
              "      Upload widget is only available when the cell has been executed in the\n",
              "      current browser session. Please rerun this cell to enable.\n",
              "      </output>\n",
              "      <script>// Copyright 2017 Google LLC\n",
              "//\n",
              "// Licensed under the Apache License, Version 2.0 (the \"License\");\n",
              "// you may not use this file except in compliance with the License.\n",
              "// You may obtain a copy of the License at\n",
              "//\n",
              "//      http://www.apache.org/licenses/LICENSE-2.0\n",
              "//\n",
              "// Unless required by applicable law or agreed to in writing, software\n",
              "// distributed under the License is distributed on an \"AS IS\" BASIS,\n",
              "// WITHOUT WARRANTIES OR CONDITIONS OF ANY KIND, either express or implied.\n",
              "// See the License for the specific language governing permissions and\n",
              "// limitations under the License.\n",
              "\n",
              "/**\n",
              " * @fileoverview Helpers for google.colab Python module.\n",
              " */\n",
              "(function(scope) {\n",
              "function span(text, styleAttributes = {}) {\n",
              "  const element = document.createElement('span');\n",
              "  element.textContent = text;\n",
              "  for (const key of Object.keys(styleAttributes)) {\n",
              "    element.style[key] = styleAttributes[key];\n",
              "  }\n",
              "  return element;\n",
              "}\n",
              "\n",
              "// Max number of bytes which will be uploaded at a time.\n",
              "const MAX_PAYLOAD_SIZE = 100 * 1024;\n",
              "\n",
              "function _uploadFiles(inputId, outputId) {\n",
              "  const steps = uploadFilesStep(inputId, outputId);\n",
              "  const outputElement = document.getElementById(outputId);\n",
              "  // Cache steps on the outputElement to make it available for the next call\n",
              "  // to uploadFilesContinue from Python.\n",
              "  outputElement.steps = steps;\n",
              "\n",
              "  return _uploadFilesContinue(outputId);\n",
              "}\n",
              "\n",
              "// This is roughly an async generator (not supported in the browser yet),\n",
              "// where there are multiple asynchronous steps and the Python side is going\n",
              "// to poll for completion of each step.\n",
              "// This uses a Promise to block the python side on completion of each step,\n",
              "// then passes the result of the previous step as the input to the next step.\n",
              "function _uploadFilesContinue(outputId) {\n",
              "  const outputElement = document.getElementById(outputId);\n",
              "  const steps = outputElement.steps;\n",
              "\n",
              "  const next = steps.next(outputElement.lastPromiseValue);\n",
              "  return Promise.resolve(next.value.promise).then((value) => {\n",
              "    // Cache the last promise value to make it available to the next\n",
              "    // step of the generator.\n",
              "    outputElement.lastPromiseValue = value;\n",
              "    return next.value.response;\n",
              "  });\n",
              "}\n",
              "\n",
              "/**\n",
              " * Generator function which is called between each async step of the upload\n",
              " * process.\n",
              " * @param {string} inputId Element ID of the input file picker element.\n",
              " * @param {string} outputId Element ID of the output display.\n",
              " * @return {!Iterable<!Object>} Iterable of next steps.\n",
              " */\n",
              "function* uploadFilesStep(inputId, outputId) {\n",
              "  const inputElement = document.getElementById(inputId);\n",
              "  inputElement.disabled = false;\n",
              "\n",
              "  const outputElement = document.getElementById(outputId);\n",
              "  outputElement.innerHTML = '';\n",
              "\n",
              "  const pickedPromise = new Promise((resolve) => {\n",
              "    inputElement.addEventListener('change', (e) => {\n",
              "      resolve(e.target.files);\n",
              "    });\n",
              "  });\n",
              "\n",
              "  const cancel = document.createElement('button');\n",
              "  inputElement.parentElement.appendChild(cancel);\n",
              "  cancel.textContent = 'Cancel upload';\n",
              "  const cancelPromise = new Promise((resolve) => {\n",
              "    cancel.onclick = () => {\n",
              "      resolve(null);\n",
              "    };\n",
              "  });\n",
              "\n",
              "  // Wait for the user to pick the files.\n",
              "  const files = yield {\n",
              "    promise: Promise.race([pickedPromise, cancelPromise]),\n",
              "    response: {\n",
              "      action: 'starting',\n",
              "    }\n",
              "  };\n",
              "\n",
              "  cancel.remove();\n",
              "\n",
              "  // Disable the input element since further picks are not allowed.\n",
              "  inputElement.disabled = true;\n",
              "\n",
              "  if (!files) {\n",
              "    return {\n",
              "      response: {\n",
              "        action: 'complete',\n",
              "      }\n",
              "    };\n",
              "  }\n",
              "\n",
              "  for (const file of files) {\n",
              "    const li = document.createElement('li');\n",
              "    li.append(span(file.name, {fontWeight: 'bold'}));\n",
              "    li.append(span(\n",
              "        `(${file.type || 'n/a'}) - ${file.size} bytes, ` +\n",
              "        `last modified: ${\n",
              "            file.lastModifiedDate ? file.lastModifiedDate.toLocaleDateString() :\n",
              "                                    'n/a'} - `));\n",
              "    const percent = span('0% done');\n",
              "    li.appendChild(percent);\n",
              "\n",
              "    outputElement.appendChild(li);\n",
              "\n",
              "    const fileDataPromise = new Promise((resolve) => {\n",
              "      const reader = new FileReader();\n",
              "      reader.onload = (e) => {\n",
              "        resolve(e.target.result);\n",
              "      };\n",
              "      reader.readAsArrayBuffer(file);\n",
              "    });\n",
              "    // Wait for the data to be ready.\n",
              "    let fileData = yield {\n",
              "      promise: fileDataPromise,\n",
              "      response: {\n",
              "        action: 'continue',\n",
              "      }\n",
              "    };\n",
              "\n",
              "    // Use a chunked sending to avoid message size limits. See b/62115660.\n",
              "    let position = 0;\n",
              "    do {\n",
              "      const length = Math.min(fileData.byteLength - position, MAX_PAYLOAD_SIZE);\n",
              "      const chunk = new Uint8Array(fileData, position, length);\n",
              "      position += length;\n",
              "\n",
              "      const base64 = btoa(String.fromCharCode.apply(null, chunk));\n",
              "      yield {\n",
              "        response: {\n",
              "          action: 'append',\n",
              "          file: file.name,\n",
              "          data: base64,\n",
              "        },\n",
              "      };\n",
              "\n",
              "      let percentDone = fileData.byteLength === 0 ?\n",
              "          100 :\n",
              "          Math.round((position / fileData.byteLength) * 100);\n",
              "      percent.textContent = `${percentDone}% done`;\n",
              "\n",
              "    } while (position < fileData.byteLength);\n",
              "  }\n",
              "\n",
              "  // All done.\n",
              "  yield {\n",
              "    response: {\n",
              "      action: 'complete',\n",
              "    }\n",
              "  };\n",
              "}\n",
              "\n",
              "scope.google = scope.google || {};\n",
              "scope.google.colab = scope.google.colab || {};\n",
              "scope.google.colab._files = {\n",
              "  _uploadFiles,\n",
              "  _uploadFilesContinue,\n",
              "};\n",
              "})(self);\n",
              "</script> "
            ]
          },
          "metadata": {}
        }
      ]
    },
    {
      "cell_type": "code",
      "source": [
        "import zipfile\n",
        "import os\n",
        "\n",
        "# 假设你上传的文件名是 'data.zip'\n",
        "zip_file_name = 'data.zip'  # 替换为你上传的文件名\n",
        "extract_folder_path = '/content/data_extracted'  # 指定解压路径\n",
        "\n",
        "# 解压缩文件\n",
        "with zipfile.ZipFile(zip_file_name, 'r') as zip_ref:\n",
        "    zip_ref.extractall(extract_folder_path)\n",
        "\n",
        "print(f\"Extracted files to: {extract_folder_path}\")\n"
      ],
      "metadata": {
        "colab": {
          "base_uri": "https://localhost:8080/"
        },
        "id": "IW6w4f1feRS3",
        "outputId": "b41f090e-a8e7-4694-ebac-9615c335a46f"
      },
      "execution_count": 3,
      "outputs": [
        {
          "output_type": "stream",
          "name": "stdout",
          "text": [
            "Extracted files to: /content/data_extracted\n"
          ]
        }
      ]
    },
    {
      "cell_type": "code",
      "source": [
        "# 指定解压缩后的文件夹路径\n",
        "extracted_folder_path = '/content/data_extracted'  # 根据你的实际路径调整\n",
        "\n",
        "# 检查文件夹是否存在并列出其中的文件\n",
        "if os.path.exists(extracted_folder_path):\n",
        "    extracted_files = os.listdir(extracted_folder_path)\n",
        "    print(\"Files and directories in the extracted folder:\")\n",
        "    for file in extracted_files:\n",
        "        print(file)\n",
        "else:\n",
        "    print(f\"Directory does not exist at path: {extracted_folder_path}\")\n"
      ],
      "metadata": {
        "colab": {
          "base_uri": "https://localhost:8080/"
        },
        "id": "yELwguHbeTzc",
        "outputId": "681ee188-10ba-4976-8e2f-6c2b7ea52b8e"
      },
      "execution_count": 4,
      "outputs": [
        {
          "output_type": "stream",
          "name": "stdout",
          "text": [
            "Files and directories in the extracted folder:\n",
            "data\n"
          ]
        }
      ]
    },
    {
      "cell_type": "code",
      "source": [
        "# 使用完整路径\n",
        "long_sound_dir = '/content/data_extracted/data/positive/long_sound'\n",
        "short_sound_dir = '/content/data_extracted/data/positive/short_sound'\n",
        "negative_dir = '/content/data_extracted/data/negative'\n",
        "\n",
        "# 检查路径是否存在\n",
        "print(f\"Checking long sound directory: {long_sound_dir}, Exists: {os.path.exists(long_sound_dir)}\")\n",
        "print(f\"Checking short sound directory: {short_sound_dir}, Exists: {os.path.exists(short_sound_dir)}\")\n",
        "print(f\"Checking negative directory: {negative_dir}, Exists: {os.path.exists(negative_dir)}\")\n"
      ],
      "metadata": {
        "colab": {
          "base_uri": "https://localhost:8080/"
        },
        "id": "5jFSL-g0emWK",
        "outputId": "40ca3f4f-ca2d-44ba-f962-186709f91b8d"
      },
      "execution_count": 6,
      "outputs": [
        {
          "output_type": "stream",
          "name": "stdout",
          "text": [
            "Checking long sound directory: /content/data_extracted/data/positive/long_sound, Exists: True\n",
            "Checking short sound directory: /content/data_extracted/data/positive/short_sound, Exists: True\n",
            "Checking negative directory: /content/data_extracted/data/negative, Exists: True\n"
          ]
        }
      ]
    },
    {
      "cell_type": "code",
      "source": [
        "def generate_audio_targets(data_dir):\n",
        "    audio_files = []\n",
        "    targets = []\n",
        "\n",
        "    # 遍历正类和负类文件夹\n",
        "    for class_label in ['positive', 'negative']:\n",
        "        class_dir = os.path.join(data_dir, class_label)\n",
        "\n",
        "        if class_label == 'positive':\n",
        "            # 如果是正类，进一步区分长音和短音\n",
        "            for sound_type in ['long_sound', 'short_sound']:\n",
        "                sound_dir = os.path.join(class_dir, sound_type)\n",
        "\n",
        "                # 遍历文件夹中的所有音频文件\n",
        "                for file_name in os.listdir(sound_dir):\n",
        "                    if file_name.endswith('.wav'):  # 假设是wav格式\n",
        "                        file_path = os.path.join(sound_dir, file_name)\n",
        "                        audio_files.append(file_path)\n",
        "\n",
        "                        # 正类音频，target = 1\n",
        "                        targets.append(1)\n",
        "        else:\n",
        "            # 负类，没有长短音区分\n",
        "            for file_name in os.listdir(class_dir):\n",
        "                if file_name.endswith('.wav'):\n",
        "                    file_path = os.path.join(class_dir, file_name)\n",
        "                    audio_files.append(file_path)\n",
        "\n",
        "                    # 负类音频，target = 0\n",
        "                    targets.append(0)\n",
        "\n",
        "    return audio_files, targets\n",
        "\n",
        "# 使用示例\n",
        "data_dir = '/content/data_extracted/data/'\n",
        "audio_files, targets = generate_audio_targets(data_dir)\n",
        "\n",
        "# 打印一些结果\n",
        "for i in range(5):\n",
        "    print(f\"Audio File: {audio_files[i]}, Target: {targets[i]}\")\n"
      ],
      "metadata": {
        "colab": {
          "base_uri": "https://localhost:8080/"
        },
        "id": "fqZ4n334fFJ6",
        "outputId": "de4d29fe-de43-419a-fa37-d77caf182ffc"
      },
      "execution_count": 7,
      "outputs": [
        {
          "output_type": "stream",
          "name": "stdout",
          "text": [
            "Audio File: /content/data_extracted/data/positive/long_sound/positive-DS3-8B-202206160646-1.wav, Target: 1\n",
            "Audio File: /content/data_extracted/data/positive/long_sound/positive-NS1-1A5B-202201100842-5.wav, Target: 1\n",
            "Audio File: /content/data_extracted/data/positive/long_sound/positive-DS3-13C 2A-202204130620-1.wav, Target: 1\n",
            "Audio File: /content/data_extracted/data/positive/long_sound/positive-DS3-8B-202204130626-8.wav, Target: 1\n",
            "Audio File: /content/data_extracted/data/positive/long_sound/positive-DS3-23C-202201051625-1.wav, Target: 1\n"
          ]
        }
      ]
    },
    {
      "cell_type": "code",
      "source": [
        "import numpy as np\n",
        "\n",
        "# 自定义数据集\n",
        "class AudioDataset(Dataset):\n",
        "    def __init__(self, audio_files, targets):\n",
        "        self.audio_files = audio_files\n",
        "        self.targets = targets  # 直接使用目标\n",
        "\n",
        "    def __len__(self):\n",
        "        return len(self.audio_files)\n",
        "\n",
        "    def __getitem__(self, idx):\n",
        "        # 加载音频文件\n",
        "        waveform, sample_rate = torchaudio.load(self.audio_files[idx])\n",
        "        # 提取特征（例如MFCCs）\n",
        "        mfcc = torchaudio.transforms.MFCC()(waveform)\n",
        "        # 获取标签（0或1）\n",
        "        label = self.targets[idx]\n",
        "        return mfcc, label\n",
        "\n",
        "# 将 audio_files 和 targets 转换为 numpy 数组\n",
        "audio_files = np.array(audio_files)\n",
        "targets = np.array(targets)\n",
        "\n",
        "# 随机打乱顺序\n",
        "indices = np.arange(len(audio_files))\n",
        "np.random.shuffle(indices)  # 随机排列索引\n",
        "audio_files = audio_files[indices]\n",
        "targets = targets[indices]\n",
        "\n",
        "# 创建数据集\n",
        "audio_dataset = AudioDataset(audio_files.tolist(), targets.tolist())\n",
        "\n",
        "# 创建数据加载器\n",
        "data_loader = DataLoader(audio_dataset, batch_size=32, shuffle=True)\n"
      ],
      "metadata": {
        "id": "fuxrzHWIfgIM"
      },
      "execution_count": 9,
      "outputs": []
    },
    {
      "cell_type": "code",
      "source": [
        "import torch\n",
        "import torch.nn as nn\n",
        "\n",
        "class AudioLSTM(nn.Module):\n",
        "    def __init__(self, n_feature=2647, out_feature=1, n_hidden=256, n_layers=2, drop_prob=0.5):\n",
        "        super(AudioLSTM, self).__init__()\n",
        "        self.drop_prob = drop_prob\n",
        "        self.n_layers = n_layers\n",
        "        self.n_hidden = n_hidden\n",
        "        self.n_feature = n_feature\n",
        "\n",
        "        # LSTM 层\n",
        "        self.lstm = nn.LSTM(self.n_feature, self.n_hidden, self.n_layers,\n",
        "                            dropout=self.drop_prob, batch_first=True)\n",
        "\n",
        "        # Dropout 层\n",
        "        self.dropout = nn.Dropout(drop_prob)\n",
        "\n",
        "        # 输出层\n",
        "        self.fc = nn.Linear(n_hidden, out_feature)\n",
        "\n",
        "        # Sigmoid 激活函数\n",
        "        self.sigmoid = nn.Sigmoid()\n",
        "\n",
        "    def forward(self, x, hidden):\n",
        "        # x.shape (batch, seq_len, n_features)\n",
        "        l_out, l_hidden = self.lstm(x, hidden)\n",
        "\n",
        "        # out.shape (batch, seq_len, n_hidden*direction)\n",
        "        out = self.dropout(l_out)\n",
        "\n",
        "        # out.shape (batch, out_feature)\n",
        "        out = self.fc(out[:, -1, :])  # 取序列的最后一个时间步的输出\n",
        "\n",
        "        # 使用 Sigmoid 将输出转换为概率\n",
        "        out = self.sigmoid(out)\n",
        "\n",
        "        # return the final output and the hidden state\n",
        "        return out, l_hidden\n",
        "\n",
        "    def init_hidden(self, batch_size):\n",
        "        weight = next(self.parameters()).data\n",
        "\n",
        "        # 初始化隐藏状态\n",
        "        hidden = (weight.new(self.n_layers, batch_size, self.n_hidden).zero_().cuda(),\n",
        "                  weight.new(self.n_layers, batch_size, self.n_hidden).zero_().cuda())\n",
        "        return hidden\n"
      ],
      "metadata": {
        "id": "yseOuvTClgR4"
      },
      "execution_count": 27,
      "outputs": []
    },
    {
      "cell_type": "code",
      "source": [
        "from torch.utils.data import random_split\n",
        "# 设置训练集和测试集的比例\n",
        "train_ratio = 0.8  # 80% 用于训练\n",
        "test_ratio = 0.2   # 20% 用于测试\n",
        "\n",
        "# 计算数据集的大小\n",
        "dataset_size = len(audio_dataset)\n",
        "train_size = int(train_ratio * dataset_size)\n",
        "test_size = dataset_size - train_size  # 确保总数不变\n",
        "\n",
        "# 划分数据集\n",
        "train_dataset, test_dataset = random_split(audio_dataset, [train_size, test_size])\n",
        "\n",
        "# 创建数据加载器\n",
        "train_loader = DataLoader(train_dataset, batch_size=32, shuffle=True)\n",
        "test_loader = DataLoader(test_dataset, batch_size=32, shuffle=False)"
      ],
      "metadata": {
        "id": "tFcKy85mnA5h"
      },
      "execution_count": 15,
      "outputs": []
    },
    {
      "cell_type": "code",
      "source": [
        "# 设备配置\n",
        "device = torch.device(\"cuda\" if torch.cuda.is_available() else \"cpu\")\n",
        "\n",
        "# 定义损失函数\n",
        "criterion = nn.BCELoss()  # 二元交叉熵损失"
      ],
      "metadata": {
        "id": "rVfKKreTnk6b"
      },
      "execution_count": 31,
      "outputs": []
    },
    {
      "cell_type": "code",
      "source": [
        "import matplotlib.pyplot as plt\n",
        "\n",
        "# 保存损失和准确率\n",
        "train_losses = []\n",
        "test_accuracies = []"
      ],
      "metadata": {
        "id": "eP5Md9Beu0wf"
      },
      "execution_count": 32,
      "outputs": []
    },
    {
      "cell_type": "code",
      "source": [
        "def train(model, train_loader, epoch, num_epochs, optimizer):\n",
        "    model.train()  # 设置模型为训练模式\n",
        "    running_loss = 0.0\n",
        "\n",
        "    for batch_idx, (data, targets) in enumerate(train_loader):\n",
        "        # 将数据和目标转移到设备\n",
        "        data, targets = data.to(device), targets.to(device).float()  # 确保目标是浮点数\n",
        "\n",
        "        # 使用 squeeze 去掉第二个维度\n",
        "        data = data.squeeze(1)  # 此时数据的形状将变为 (batch_size, seq_length, n_features)\n",
        "\n",
        "        # 初始化隐藏状态\n",
        "        hidden = model.init_hidden(data.size(0))\n",
        "\n",
        "        # 清零梯度\n",
        "        optimizer.zero_grad()\n",
        "\n",
        "        # 前向传播\n",
        "        outputs, hidden = model(data, hidden)\n",
        "\n",
        "        # 计算损失\n",
        "        loss = criterion(outputs, targets.unsqueeze(1))  # 添加一个维度以匹配输出形状\n",
        "\n",
        "        # 反向传播和优化\n",
        "        loss.backward()\n",
        "        optimizer.step()\n",
        "\n",
        "        running_loss += loss.item()\n",
        "\n",
        "        # 输出每个 epoch 的损失\n",
        "        if batch_idx % 10 == 0:  # 每 10 个 batch 打印一次\n",
        "            print(f'Epoch [{epoch+1}/{num_epochs}], Step [{batch_idx}/{len(train_loader)}], Loss: {loss.item():.4f}')\n",
        "\n",
        "    average_loss = running_loss / len(train_loader)\n",
        "    train_losses.append(average_loss)  # 保存训练损失\n",
        "    print(f'Average Loss for Epoch [{epoch+1}]: {average_loss:.4f}')\n"
      ],
      "metadata": {
        "id": "Wlxu3rKopxng"
      },
      "execution_count": 36,
      "outputs": []
    },
    {
      "cell_type": "code",
      "source": [
        "def test(model, test_loader):\n",
        "    model.eval()  # 设置模型为评估模式\n",
        "    correct = 0\n",
        "    total = 0\n",
        "\n",
        "    with torch.no_grad():  # 不需要计算梯度\n",
        "        for data, targets in test_loader:\n",
        "            data, targets = data.to(device), targets.to(device).float()\n",
        "\n",
        "            # 使用 squeeze 去掉第二个维度\n",
        "            data = data.squeeze(1)  # 此时数据的形状将变为 (batch_size, seq_length, n_features)\n",
        "\n",
        "            # 初始化隐藏状态\n",
        "            hidden = model.init_hidden(data.size(0))\n",
        "\n",
        "            # 前向传播\n",
        "            outputs, hidden = model(data, hidden)\n",
        "\n",
        "            # 将输出转换为 0 或 1\n",
        "            predicted = (outputs >= 0.5).float()  # 阈值 0.5\n",
        "\n",
        "            total += targets.size(0)\n",
        "            correct += (predicted.squeeze() == targets).sum().item()  # 统计正确的预测\n",
        "\n",
        "    accuracy = 100 * correct / total\n",
        "    test_accuracies.append(accuracy)  # 保存测试准确率\n",
        "    print(f'Accuracy of the model on the test set: {accuracy:.2f}%')\n"
      ],
      "metadata": {
        "id": "-8yGFDXdp254"
      },
      "execution_count": 37,
      "outputs": []
    },
    {
      "cell_type": "code",
      "source": [
        "# 创建模型实例\n",
        "model = AudioLSTM(n_feature=2647, out_feature=1, n_hidden=256, n_layers=2, drop_prob=0.5).to(device)\n",
        "\n",
        "# 定义优化器\n",
        "optimizer = optim.Adam(model.parameters(), lr=0.001)\n",
        "\n",
        "# 训练和测试模型\n",
        "num_epochs = 10  # 设置总的训练轮数\n",
        "for epoch in range(num_epochs):\n",
        "    train(model, train_loader, epoch, num_epochs, optimizer)  # 训练\n",
        "    test(model, test_loader)  # 测试\n"
      ],
      "metadata": {
        "colab": {
          "base_uri": "https://localhost:8080/"
        },
        "id": "VKosSryLrDxu",
        "outputId": "12ced5c6-0947-44cd-d4d4-7372214f28a7"
      },
      "execution_count": 38,
      "outputs": [
        {
          "output_type": "stream",
          "name": "stdout",
          "text": [
            "Epoch [1/10], Step [0/3], Loss: 0.7036\n",
            "Average Loss for Epoch [1]: 0.7104\n",
            "Accuracy of the model on the test set: 55.00%\n",
            "Epoch [2/10], Step [0/3], Loss: 0.7025\n",
            "Average Loss for Epoch [2]: 0.6821\n",
            "Accuracy of the model on the test set: 60.00%\n",
            "Epoch [3/10], Step [0/3], Loss: 0.6546\n",
            "Average Loss for Epoch [3]: 0.6508\n",
            "Accuracy of the model on the test set: 50.00%\n",
            "Epoch [4/10], Step [0/3], Loss: 0.6387\n",
            "Average Loss for Epoch [4]: 0.6187\n",
            "Accuracy of the model on the test set: 50.00%\n",
            "Epoch [5/10], Step [0/3], Loss: 0.5313\n",
            "Average Loss for Epoch [5]: 0.5139\n",
            "Accuracy of the model on the test set: 50.00%\n",
            "Epoch [6/10], Step [0/3], Loss: 0.3543\n",
            "Average Loss for Epoch [6]: 0.3249\n",
            "Accuracy of the model on the test set: 40.00%\n",
            "Epoch [7/10], Step [0/3], Loss: 0.1344\n",
            "Average Loss for Epoch [7]: 0.1051\n",
            "Accuracy of the model on the test set: 50.00%\n",
            "Epoch [8/10], Step [0/3], Loss: 0.0244\n",
            "Average Loss for Epoch [8]: 0.0595\n",
            "Accuracy of the model on the test set: 55.00%\n",
            "Epoch [9/10], Step [0/3], Loss: 0.0211\n",
            "Average Loss for Epoch [9]: 0.0134\n",
            "Accuracy of the model on the test set: 55.00%\n",
            "Epoch [10/10], Step [0/3], Loss: 0.0068\n",
            "Average Loss for Epoch [10]: 0.0060\n",
            "Accuracy of the model on the test set: 55.00%\n"
          ]
        }
      ]
    },
    {
      "cell_type": "code",
      "source": [
        "# 绘制损失和准确率图\n",
        "plt.figure(figsize=(12, 5))\n",
        "\n",
        "# 绘制训练损失\n",
        "plt.subplot(1, 2, 1)\n",
        "plt.plot(range(1, num_epochs + 1), train_losses, label='Train Loss')\n",
        "plt.xlabel('Epoch')\n",
        "plt.ylabel('Loss')\n",
        "plt.title('Training Loss')\n",
        "plt.grid()\n",
        "plt.legend()\n",
        "\n",
        "# 绘制测试准确率\n",
        "plt.subplot(1, 2, 2)\n",
        "plt.plot(range(1, num_epochs + 1), test_accuracies, label='Test Accuracy', color='orange')\n",
        "plt.xlabel('Epoch')\n",
        "plt.ylabel('Accuracy (%)')\n",
        "plt.title('Test Accuracy')\n",
        "plt.grid()\n",
        "plt.legend()\n",
        "\n",
        "plt.tight_layout()\n",
        "plt.show()"
      ],
      "metadata": {
        "colab": {
          "base_uri": "https://localhost:8080/",
          "height": 507
        },
        "id": "oBI5IiuSrqCz",
        "outputId": "7547c7cd-7d6b-4782-d3bf-cea768f92292"
      },
      "execution_count": 39,
      "outputs": [
        {
          "output_type": "display_data",
          "data": {
            "text/plain": [
              "<Figure size 1200x500 with 2 Axes>"
            ],
            "image/png": "[encoded data removed]"
          },
          "metadata": {}
        }
      ]
    },
    {
      "cell_type": "code",
      "source": [],
      "metadata": {
        "id": "X11VkwtVwAkt"
      },
      "execution_count": null,
      "outputs": []
    }
  ]
}